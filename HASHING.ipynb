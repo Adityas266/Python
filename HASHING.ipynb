{
 "cells": [
  {
   "cell_type": "code",
   "execution_count": null,
   "id": "4c10d8c8",
   "metadata": {},
   "outputs": [],
   "source": [
    "class LinearHashing:\n",
    "    def _init_(self):\n",
    "        self.array = [0]*10\n",
    "\n",
    "    def HashingFun(self,val):\n",
    "        index = val % 10\n",
    "        count = 0\n",
    "        while True:\n",
    "            if self.array[index] == 0:\n",
    "                self.array[index] = val\n",
    "                print(\"value entered\")\n",
    "                break\n",
    "            count += 1\n",
    "            index = (index+1)%10\n",
    "            if count == 10:\n",
    "                print(\"No space\")\n",
    "                break\n",
    "    \n",
    "    def display(self):\n",
    "        temp = self.array\n",
    "        for i in temp:\n",
    "            if i == 0:\n",
    "                print(' |Null| \\n __')\n",
    "            else:\n",
    "                print(f\"| {i} | \\n __\")     \n",
    "        \n",
    "            \n",
    "if _name_ == '_main_':\n",
    "    LH = LinearHashing()\n",
    "    while True:\n",
    "        \n",
    "        ip = int(input('Enter your input : '))\n",
    "        \n",
    "        if ip == 1:\n",
    "            x = int(input(\"Enterr the value --> \"))\n",
    "            LH.HashingFun(x)\n",
    "        \n",
    "        elif ip == 2:\n",
    "            LH.display()\n",
    "            \n",
    "        elif ip == 3:\n",
    "            break"
   ]
  }
 ],
 "metadata": {
  "kernelspec": {
   "display_name": "Python 3 (ipykernel)",
   "language": "python",
   "name": "python3"
  },
  "language_info": {
   "codemirror_mode": {
    "name": "ipython",
    "version": 3
   },
   "file_extension": ".py",
   "mimetype": "text/x-python",
   "name": "python",
   "nbconvert_exporter": "python",
   "pygments_lexer": "ipython3",
   "version": "3.9.6"
  }
 },
 "nbformat": 4,
 "nbformat_minor": 5
}
